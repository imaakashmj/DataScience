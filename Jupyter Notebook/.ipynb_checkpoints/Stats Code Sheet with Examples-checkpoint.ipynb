{
 "cells": [
  {
   "cell_type": "code",
   "execution_count": 1,
   "id": "e1eb2fd4",
   "metadata": {},
   "outputs": [],
   "source": [
    "import numpy as np\n",
    "import pandas as pd"
   ]
  },
  {
   "cell_type": "code",
   "execution_count": 2,
   "id": "6ae5812f",
   "metadata": {},
   "outputs": [],
   "source": [
    "Data = {\n",
    "    'Years of Experience': [1,2,3,4,5,6,7,8,9,10,11,12,13,14,15,16,17,18,19,20,21,22,23,24,25],\n",
    "    'Salary': [40000,42000,44000,46000,48000,50000,52000,54000,56000,58000,60000,62000,64000,66000,68000,70000,72000,74000,76000,78000,80000,82000,84000,86000,88000]\n",
    "}\n",
    "df = pd.DataFrame(Data) #Create a DataFrame"
   ]
  },
  {
   "cell_type": "code",
   "execution_count": 3,
   "id": "e64b7fbe",
   "metadata": {
    "scrolled": true
   },
   "outputs": [
    {
     "data": {
      "text/html": [
       "<div>\n",
       "<style scoped>\n",
       "    .dataframe tbody tr th:only-of-type {\n",
       "        vertical-align: middle;\n",
       "    }\n",
       "\n",
       "    .dataframe tbody tr th {\n",
       "        vertical-align: top;\n",
       "    }\n",
       "\n",
       "    .dataframe thead th {\n",
       "        text-align: right;\n",
       "    }\n",
       "</style>\n",
       "<table border=\"1\" class=\"dataframe\">\n",
       "  <thead>\n",
       "    <tr style=\"text-align: right;\">\n",
       "      <th></th>\n",
       "      <th>Years of Experience</th>\n",
       "      <th>Salary</th>\n",
       "    </tr>\n",
       "  </thead>\n",
       "  <tbody>\n",
       "    <tr>\n",
       "      <th>0</th>\n",
       "      <td>1</td>\n",
       "      <td>40000</td>\n",
       "    </tr>\n",
       "    <tr>\n",
       "      <th>1</th>\n",
       "      <td>2</td>\n",
       "      <td>42000</td>\n",
       "    </tr>\n",
       "    <tr>\n",
       "      <th>2</th>\n",
       "      <td>3</td>\n",
       "      <td>44000</td>\n",
       "    </tr>\n",
       "    <tr>\n",
       "      <th>3</th>\n",
       "      <td>4</td>\n",
       "      <td>46000</td>\n",
       "    </tr>\n",
       "    <tr>\n",
       "      <th>4</th>\n",
       "      <td>5</td>\n",
       "      <td>48000</td>\n",
       "    </tr>\n",
       "    <tr>\n",
       "      <th>5</th>\n",
       "      <td>6</td>\n",
       "      <td>50000</td>\n",
       "    </tr>\n",
       "    <tr>\n",
       "      <th>6</th>\n",
       "      <td>7</td>\n",
       "      <td>52000</td>\n",
       "    </tr>\n",
       "    <tr>\n",
       "      <th>7</th>\n",
       "      <td>8</td>\n",
       "      <td>54000</td>\n",
       "    </tr>\n",
       "    <tr>\n",
       "      <th>8</th>\n",
       "      <td>9</td>\n",
       "      <td>56000</td>\n",
       "    </tr>\n",
       "    <tr>\n",
       "      <th>9</th>\n",
       "      <td>10</td>\n",
       "      <td>58000</td>\n",
       "    </tr>\n",
       "    <tr>\n",
       "      <th>10</th>\n",
       "      <td>11</td>\n",
       "      <td>60000</td>\n",
       "    </tr>\n",
       "    <tr>\n",
       "      <th>11</th>\n",
       "      <td>12</td>\n",
       "      <td>62000</td>\n",
       "    </tr>\n",
       "    <tr>\n",
       "      <th>12</th>\n",
       "      <td>13</td>\n",
       "      <td>64000</td>\n",
       "    </tr>\n",
       "    <tr>\n",
       "      <th>13</th>\n",
       "      <td>14</td>\n",
       "      <td>66000</td>\n",
       "    </tr>\n",
       "    <tr>\n",
       "      <th>14</th>\n",
       "      <td>15</td>\n",
       "      <td>68000</td>\n",
       "    </tr>\n",
       "    <tr>\n",
       "      <th>15</th>\n",
       "      <td>16</td>\n",
       "      <td>70000</td>\n",
       "    </tr>\n",
       "    <tr>\n",
       "      <th>16</th>\n",
       "      <td>17</td>\n",
       "      <td>72000</td>\n",
       "    </tr>\n",
       "    <tr>\n",
       "      <th>17</th>\n",
       "      <td>18</td>\n",
       "      <td>74000</td>\n",
       "    </tr>\n",
       "    <tr>\n",
       "      <th>18</th>\n",
       "      <td>19</td>\n",
       "      <td>76000</td>\n",
       "    </tr>\n",
       "    <tr>\n",
       "      <th>19</th>\n",
       "      <td>20</td>\n",
       "      <td>78000</td>\n",
       "    </tr>\n",
       "    <tr>\n",
       "      <th>20</th>\n",
       "      <td>21</td>\n",
       "      <td>80000</td>\n",
       "    </tr>\n",
       "    <tr>\n",
       "      <th>21</th>\n",
       "      <td>22</td>\n",
       "      <td>82000</td>\n",
       "    </tr>\n",
       "    <tr>\n",
       "      <th>22</th>\n",
       "      <td>23</td>\n",
       "      <td>84000</td>\n",
       "    </tr>\n",
       "    <tr>\n",
       "      <th>23</th>\n",
       "      <td>24</td>\n",
       "      <td>86000</td>\n",
       "    </tr>\n",
       "    <tr>\n",
       "      <th>24</th>\n",
       "      <td>25</td>\n",
       "      <td>88000</td>\n",
       "    </tr>\n",
       "  </tbody>\n",
       "</table>\n",
       "</div>"
      ],
      "text/plain": [
       "    Years of Experience  Salary\n",
       "0                     1   40000\n",
       "1                     2   42000\n",
       "2                     3   44000\n",
       "3                     4   46000\n",
       "4                     5   48000\n",
       "5                     6   50000\n",
       "6                     7   52000\n",
       "7                     8   54000\n",
       "8                     9   56000\n",
       "9                    10   58000\n",
       "10                   11   60000\n",
       "11                   12   62000\n",
       "12                   13   64000\n",
       "13                   14   66000\n",
       "14                   15   68000\n",
       "15                   16   70000\n",
       "16                   17   72000\n",
       "17                   18   74000\n",
       "18                   19   76000\n",
       "19                   20   78000\n",
       "20                   21   80000\n",
       "21                   22   82000\n",
       "22                   23   84000\n",
       "23                   24   86000\n",
       "24                   25   88000"
      ]
     },
     "execution_count": 3,
     "metadata": {},
     "output_type": "execute_result"
    }
   ],
   "source": [
    "df"
   ]
  },
  {
   "cell_type": "markdown",
   "id": "7ed1961e",
   "metadata": {},
   "source": [
    "# Mean"
   ]
  },
  {
   "cell_type": "code",
   "execution_count": 4,
   "id": "a2094c66",
   "metadata": {},
   "outputs": [
    {
     "data": {
      "text/plain": [
       "Years of Experience       13.0\n",
       "Salary                 64000.0\n",
       "dtype: float64"
      ]
     },
     "execution_count": 4,
     "metadata": {},
     "output_type": "execute_result"
    }
   ],
   "source": [
    "df.mean()"
   ]
  },
  {
   "cell_type": "code",
   "execution_count": 5,
   "id": "839a1045",
   "metadata": {},
   "outputs": [
    {
     "data": {
      "text/plain": [
       "64000.0"
      ]
     },
     "execution_count": 5,
     "metadata": {},
     "output_type": "execute_result"
    }
   ],
   "source": [
    "df['Salary'].mean() "
   ]
  },
  {
   "cell_type": "markdown",
   "id": "49b12052",
   "metadata": {},
   "source": [
    "# Median"
   ]
  },
  {
   "cell_type": "code",
   "execution_count": 6,
   "id": "adb4e84a",
   "metadata": {},
   "outputs": [
    {
     "data": {
      "text/plain": [
       "Years of Experience       13.0\n",
       "Salary                 64000.0\n",
       "dtype: float64"
      ]
     },
     "execution_count": 6,
     "metadata": {},
     "output_type": "execute_result"
    }
   ],
   "source": [
    "df.median()"
   ]
  },
  {
   "cell_type": "code",
   "execution_count": 7,
   "id": "fb25c408",
   "metadata": {},
   "outputs": [
    {
     "data": {
      "text/plain": [
       "64000.0"
      ]
     },
     "execution_count": 7,
     "metadata": {},
     "output_type": "execute_result"
    }
   ],
   "source": [
    "df['Salary'].median()"
   ]
  },
  {
   "cell_type": "markdown",
   "id": "42f88f79",
   "metadata": {},
   "source": [
    "# Mode"
   ]
  },
  {
   "cell_type": "code",
   "execution_count": 8,
   "id": "7c7c9002",
   "metadata": {},
   "outputs": [
    {
     "data": {
      "text/plain": [
       "0     40000\n",
       "1     42000\n",
       "2     44000\n",
       "3     46000\n",
       "4     48000\n",
       "5     50000\n",
       "6     52000\n",
       "7     54000\n",
       "8     56000\n",
       "9     58000\n",
       "10    60000\n",
       "11    62000\n",
       "12    64000\n",
       "13    66000\n",
       "14    68000\n",
       "15    70000\n",
       "16    72000\n",
       "17    74000\n",
       "18    76000\n",
       "19    78000\n",
       "20    80000\n",
       "21    82000\n",
       "22    84000\n",
       "23    86000\n",
       "24    88000\n",
       "Name: Salary, dtype: int64"
      ]
     },
     "execution_count": 8,
     "metadata": {},
     "output_type": "execute_result"
    }
   ],
   "source": [
    "df['Salary'].mode()"
   ]
  },
  {
   "cell_type": "markdown",
   "id": "387b6504",
   "metadata": {},
   "source": [
    "# Variance"
   ]
  },
  {
   "cell_type": "code",
   "execution_count": 9,
   "id": "265ad1d5",
   "metadata": {},
   "outputs": [
    {
     "data": {
      "text/plain": [
       "Years of Experience    5.416667e+01\n",
       "Salary                 2.166667e+08\n",
       "dtype: float64"
      ]
     },
     "execution_count": 9,
     "metadata": {},
     "output_type": "execute_result"
    }
   ],
   "source": [
    "df.var() #this will give variance of entire dataframe"
   ]
  },
  {
   "cell_type": "code",
   "execution_count": 10,
   "id": "6677e119",
   "metadata": {},
   "outputs": [
    {
     "data": {
      "text/plain": [
       "216666666.66666666"
      ]
     },
     "execution_count": 10,
     "metadata": {},
     "output_type": "execute_result"
    }
   ],
   "source": [
    "df['Salary'].var() #this will give us variance of that particular column"
   ]
  },
  {
   "cell_type": "markdown",
   "id": "b44ec0a1",
   "metadata": {},
   "source": [
    "# Standard Deviation"
   ]
  },
  {
   "cell_type": "code",
   "execution_count": 11,
   "id": "560847af",
   "metadata": {},
   "outputs": [
    {
     "data": {
      "text/plain": [
       "Years of Experience        7.359801\n",
       "Salary                 14719.601444\n",
       "dtype: float64"
      ]
     },
     "execution_count": 11,
     "metadata": {},
     "output_type": "execute_result"
    }
   ],
   "source": [
    "df.std() #this will give Standard Deviation of entire dataframe"
   ]
  },
  {
   "cell_type": "code",
   "execution_count": 12,
   "id": "36569c3c",
   "metadata": {},
   "outputs": [
    {
     "data": {
      "text/plain": [
       "14719.601443879745"
      ]
     },
     "execution_count": 12,
     "metadata": {},
     "output_type": "execute_result"
    }
   ],
   "source": [
    "df['Salary'].std() #this will give us Standard Deviation of that particular column"
   ]
  },
  {
   "cell_type": "markdown",
   "id": "afe69beb",
   "metadata": {},
   "source": [
    "# "
   ]
  },
  {
   "cell_type": "markdown",
   "id": "568da8ba",
   "metadata": {},
   "source": [
    "# Coefficient of Variance (cv)"
   ]
  },
  {
   "cell_type": "code",
   "execution_count": 13,
   "id": "f5b6f696",
   "metadata": {},
   "outputs": [
    {
     "data": {
      "text/plain": [
       "array([0.5547002 , 0.22534695])"
      ]
     },
     "execution_count": 13,
     "metadata": {},
     "output_type": "execute_result"
    }
   ],
   "source": [
    "#For calculating Coefficient Of Variance(cv) we have to import a Library First\n",
    "\n",
    "from scipy.stats import variation\n",
    "variation(df.values) #this will give cv of entire DataFrame"
   ]
  },
  {
   "cell_type": "code",
   "execution_count": 14,
   "id": "2df927c6",
   "metadata": {},
   "outputs": [
    {
     "data": {
      "text/plain": [
       "0.22534695471649935"
      ]
     },
     "execution_count": 14,
     "metadata": {},
     "output_type": "execute_result"
    }
   ],
   "source": [
    "variation(df['Salary']) #this will give cv of particular column"
   ]
  },
  {
   "cell_type": "markdown",
   "id": "5eabd940",
   "metadata": {},
   "source": [
    "# Correlation"
   ]
  },
  {
   "cell_type": "code",
   "execution_count": 15,
   "id": "82315c7a",
   "metadata": {},
   "outputs": [
    {
     "data": {
      "text/html": [
       "<div>\n",
       "<style scoped>\n",
       "    .dataframe tbody tr th:only-of-type {\n",
       "        vertical-align: middle;\n",
       "    }\n",
       "\n",
       "    .dataframe tbody tr th {\n",
       "        vertical-align: top;\n",
       "    }\n",
       "\n",
       "    .dataframe thead th {\n",
       "        text-align: right;\n",
       "    }\n",
       "</style>\n",
       "<table border=\"1\" class=\"dataframe\">\n",
       "  <thead>\n",
       "    <tr style=\"text-align: right;\">\n",
       "      <th></th>\n",
       "      <th>Years of Experience</th>\n",
       "      <th>Salary</th>\n",
       "    </tr>\n",
       "  </thead>\n",
       "  <tbody>\n",
       "    <tr>\n",
       "      <th>Years of Experience</th>\n",
       "      <td>1.0</td>\n",
       "      <td>1.0</td>\n",
       "    </tr>\n",
       "    <tr>\n",
       "      <th>Salary</th>\n",
       "      <td>1.0</td>\n",
       "      <td>1.0</td>\n",
       "    </tr>\n",
       "  </tbody>\n",
       "</table>\n",
       "</div>"
      ],
      "text/plain": [
       "                     Years of Experience  Salary\n",
       "Years of Experience                  1.0     1.0\n",
       "Salary                               1.0     1.0"
      ]
     },
     "execution_count": 15,
     "metadata": {},
     "output_type": "execute_result"
    }
   ],
   "source": [
    "df.corr()"
   ]
  },
  {
   "cell_type": "code",
   "execution_count": 16,
   "id": "6cddc5ae",
   "metadata": {},
   "outputs": [
    {
     "data": {
      "text/plain": [
       "1.0"
      ]
     },
     "execution_count": 16,
     "metadata": {},
     "output_type": "execute_result"
    }
   ],
   "source": [
    "df['Salary'].corr(df['Years of Experience'])"
   ]
  },
  {
   "cell_type": "markdown",
   "id": "b0695b9f",
   "metadata": {},
   "source": [
    "# Skewness"
   ]
  },
  {
   "cell_type": "code",
   "execution_count": 17,
   "id": "8a7f0126",
   "metadata": {},
   "outputs": [
    {
     "data": {
      "text/plain": [
       "Years of Experience    0.0\n",
       "Salary                 0.0\n",
       "dtype: float64"
      ]
     },
     "execution_count": 17,
     "metadata": {},
     "output_type": "execute_result"
    }
   ],
   "source": [
    "df.skew()"
   ]
  },
  {
   "cell_type": "code",
   "execution_count": 18,
   "id": "52ddaf16",
   "metadata": {},
   "outputs": [
    {
     "data": {
      "text/plain": [
       "0.0"
      ]
     },
     "execution_count": 18,
     "metadata": {},
     "output_type": "execute_result"
    }
   ],
   "source": [
    "df['Salary'].skew()"
   ]
  },
  {
   "cell_type": "markdown",
   "id": "b05564ec",
   "metadata": {},
   "source": [
    "# Standard Error "
   ]
  },
  {
   "cell_type": "code",
   "execution_count": 19,
   "id": "245f611b",
   "metadata": {},
   "outputs": [
    {
     "data": {
      "text/plain": [
       "Years of Experience       1.471960\n",
       "Salary                 2943.920289\n",
       "dtype: float64"
      ]
     },
     "execution_count": 19,
     "metadata": {},
     "output_type": "execute_result"
    }
   ],
   "source": [
    "df.sem()"
   ]
  },
  {
   "cell_type": "code",
   "execution_count": 20,
   "id": "605f805d",
   "metadata": {},
   "outputs": [
    {
     "data": {
      "text/plain": [
       "2943.920288775949"
      ]
     },
     "execution_count": 20,
     "metadata": {},
     "output_type": "execute_result"
    }
   ],
   "source": [
    "df['Salary'].sem() #this will give Standard Error of particular Column"
   ]
  },
  {
   "cell_type": "code",
   "execution_count": 21,
   "id": "aadea1b7",
   "metadata": {},
   "outputs": [
    {
     "data": {
      "text/plain": [
       "1.4719601443879744"
      ]
     },
     "execution_count": 21,
     "metadata": {},
     "output_type": "execute_result"
    }
   ],
   "source": [
    "df['Years of Experience'].sem()"
   ]
  },
  {
   "cell_type": "markdown",
   "id": "a76b1c2e",
   "metadata": {},
   "source": [
    "# Z-score"
   ]
  },
  {
   "cell_type": "code",
   "execution_count": 22,
   "id": "b7831f81",
   "metadata": {},
   "outputs": [
    {
     "data": {
      "text/html": [
       "<div>\n",
       "<style scoped>\n",
       "    .dataframe tbody tr th:only-of-type {\n",
       "        vertical-align: middle;\n",
       "    }\n",
       "\n",
       "    .dataframe tbody tr th {\n",
       "        vertical-align: top;\n",
       "    }\n",
       "\n",
       "    .dataframe thead th {\n",
       "        text-align: right;\n",
       "    }\n",
       "</style>\n",
       "<table border=\"1\" class=\"dataframe\">\n",
       "  <thead>\n",
       "    <tr style=\"text-align: right;\">\n",
       "      <th></th>\n",
       "      <th>Years of Experience</th>\n",
       "      <th>Salary</th>\n",
       "    </tr>\n",
       "  </thead>\n",
       "  <tbody>\n",
       "    <tr>\n",
       "      <th>0</th>\n",
       "      <td>-1.664101</td>\n",
       "      <td>-1.664101</td>\n",
       "    </tr>\n",
       "    <tr>\n",
       "      <th>1</th>\n",
       "      <td>-1.525426</td>\n",
       "      <td>-1.525426</td>\n",
       "    </tr>\n",
       "    <tr>\n",
       "      <th>2</th>\n",
       "      <td>-1.386750</td>\n",
       "      <td>-1.386750</td>\n",
       "    </tr>\n",
       "    <tr>\n",
       "      <th>3</th>\n",
       "      <td>-1.248075</td>\n",
       "      <td>-1.248075</td>\n",
       "    </tr>\n",
       "    <tr>\n",
       "      <th>4</th>\n",
       "      <td>-1.109400</td>\n",
       "      <td>-1.109400</td>\n",
       "    </tr>\n",
       "    <tr>\n",
       "      <th>5</th>\n",
       "      <td>-0.970725</td>\n",
       "      <td>-0.970725</td>\n",
       "    </tr>\n",
       "    <tr>\n",
       "      <th>6</th>\n",
       "      <td>-0.832050</td>\n",
       "      <td>-0.832050</td>\n",
       "    </tr>\n",
       "    <tr>\n",
       "      <th>7</th>\n",
       "      <td>-0.693375</td>\n",
       "      <td>-0.693375</td>\n",
       "    </tr>\n",
       "    <tr>\n",
       "      <th>8</th>\n",
       "      <td>-0.554700</td>\n",
       "      <td>-0.554700</td>\n",
       "    </tr>\n",
       "    <tr>\n",
       "      <th>9</th>\n",
       "      <td>-0.416025</td>\n",
       "      <td>-0.416025</td>\n",
       "    </tr>\n",
       "    <tr>\n",
       "      <th>10</th>\n",
       "      <td>-0.277350</td>\n",
       "      <td>-0.277350</td>\n",
       "    </tr>\n",
       "    <tr>\n",
       "      <th>11</th>\n",
       "      <td>-0.138675</td>\n",
       "      <td>-0.138675</td>\n",
       "    </tr>\n",
       "    <tr>\n",
       "      <th>12</th>\n",
       "      <td>0.000000</td>\n",
       "      <td>0.000000</td>\n",
       "    </tr>\n",
       "    <tr>\n",
       "      <th>13</th>\n",
       "      <td>0.138675</td>\n",
       "      <td>0.138675</td>\n",
       "    </tr>\n",
       "    <tr>\n",
       "      <th>14</th>\n",
       "      <td>0.277350</td>\n",
       "      <td>0.277350</td>\n",
       "    </tr>\n",
       "    <tr>\n",
       "      <th>15</th>\n",
       "      <td>0.416025</td>\n",
       "      <td>0.416025</td>\n",
       "    </tr>\n",
       "    <tr>\n",
       "      <th>16</th>\n",
       "      <td>0.554700</td>\n",
       "      <td>0.554700</td>\n",
       "    </tr>\n",
       "    <tr>\n",
       "      <th>17</th>\n",
       "      <td>0.693375</td>\n",
       "      <td>0.693375</td>\n",
       "    </tr>\n",
       "    <tr>\n",
       "      <th>18</th>\n",
       "      <td>0.832050</td>\n",
       "      <td>0.832050</td>\n",
       "    </tr>\n",
       "    <tr>\n",
       "      <th>19</th>\n",
       "      <td>0.970725</td>\n",
       "      <td>0.970725</td>\n",
       "    </tr>\n",
       "    <tr>\n",
       "      <th>20</th>\n",
       "      <td>1.109400</td>\n",
       "      <td>1.109400</td>\n",
       "    </tr>\n",
       "    <tr>\n",
       "      <th>21</th>\n",
       "      <td>1.248075</td>\n",
       "      <td>1.248075</td>\n",
       "    </tr>\n",
       "    <tr>\n",
       "      <th>22</th>\n",
       "      <td>1.386750</td>\n",
       "      <td>1.386750</td>\n",
       "    </tr>\n",
       "    <tr>\n",
       "      <th>23</th>\n",
       "      <td>1.525426</td>\n",
       "      <td>1.525426</td>\n",
       "    </tr>\n",
       "    <tr>\n",
       "      <th>24</th>\n",
       "      <td>1.664101</td>\n",
       "      <td>1.664101</td>\n",
       "    </tr>\n",
       "  </tbody>\n",
       "</table>\n",
       "</div>"
      ],
      "text/plain": [
       "    Years of Experience    Salary\n",
       "0             -1.664101 -1.664101\n",
       "1             -1.525426 -1.525426\n",
       "2             -1.386750 -1.386750\n",
       "3             -1.248075 -1.248075\n",
       "4             -1.109400 -1.109400\n",
       "5             -0.970725 -0.970725\n",
       "6             -0.832050 -0.832050\n",
       "7             -0.693375 -0.693375\n",
       "8             -0.554700 -0.554700\n",
       "9             -0.416025 -0.416025\n",
       "10            -0.277350 -0.277350\n",
       "11            -0.138675 -0.138675\n",
       "12             0.000000  0.000000\n",
       "13             0.138675  0.138675\n",
       "14             0.277350  0.277350\n",
       "15             0.416025  0.416025\n",
       "16             0.554700  0.554700\n",
       "17             0.693375  0.693375\n",
       "18             0.832050  0.832050\n",
       "19             0.970725  0.970725\n",
       "20             1.109400  1.109400\n",
       "21             1.248075  1.248075\n",
       "22             1.386750  1.386750\n",
       "23             1.525426  1.525426\n",
       "24             1.664101  1.664101"
      ]
     },
     "execution_count": 22,
     "metadata": {},
     "output_type": "execute_result"
    }
   ],
   "source": [
    "#for calculating Z-score we have to import a library first\n",
    "import scipy.stats as stats\n",
    "df.apply(stats.zscore) #this will give Z-score of entire DataFrame"
   ]
  },
  {
   "cell_type": "code",
   "execution_count": 23,
   "id": "e127cf05",
   "metadata": {},
   "outputs": [],
   "source": [
    "# Calculate Z-scores for each column\n",
    "z_score_experience = (df['Years of Experience'] - df['Years of Experience'].mean()) / df['Years of Experience'].std()\n",
    "z_score_salary = (df['Salary'] - df['Salary'].mean()) / df['Salary'].std()\n",
    "# Add Z-score columns to the DataFrame\n",
    "df['Z-score Experience'] = z_score_experience\n",
    "df['Z-score Salary'] = z_score_salary"
   ]
  },
  {
   "cell_type": "code",
   "execution_count": 24,
   "id": "dce90b96",
   "metadata": {},
   "outputs": [
    {
     "data": {
      "text/plain": [
       "0    -1.630479\n",
       "1    -1.494606\n",
       "2    -1.358732\n",
       "3    -1.222859\n",
       "4    -1.086986\n",
       "5    -0.951113\n",
       "6    -0.815239\n",
       "7    -0.679366\n",
       "8    -0.543493\n",
       "9    -0.407620\n",
       "10   -0.271746\n",
       "11   -0.135873\n",
       "12    0.000000\n",
       "13    0.135873\n",
       "14    0.271746\n",
       "15    0.407620\n",
       "16    0.543493\n",
       "17    0.679366\n",
       "18    0.815239\n",
       "19    0.951113\n",
       "20    1.086986\n",
       "21    1.222859\n",
       "22    1.358732\n",
       "23    1.494606\n",
       "24    1.630479\n",
       "Name: Years of Experience, dtype: float64"
      ]
     },
     "execution_count": 24,
     "metadata": {},
     "output_type": "execute_result"
    }
   ],
   "source": [
    "z_score_experience"
   ]
  },
  {
   "cell_type": "code",
   "execution_count": 25,
   "id": "107dfed3",
   "metadata": {},
   "outputs": [
    {
     "data": {
      "text/plain": [
       "0    -1.630479\n",
       "1    -1.494606\n",
       "2    -1.358732\n",
       "3    -1.222859\n",
       "4    -1.086986\n",
       "5    -0.951113\n",
       "6    -0.815239\n",
       "7    -0.679366\n",
       "8    -0.543493\n",
       "9    -0.407620\n",
       "10   -0.271746\n",
       "11   -0.135873\n",
       "12    0.000000\n",
       "13    0.135873\n",
       "14    0.271746\n",
       "15    0.407620\n",
       "16    0.543493\n",
       "17    0.679366\n",
       "18    0.815239\n",
       "19    0.951113\n",
       "20    1.086986\n",
       "21    1.222859\n",
       "22    1.358732\n",
       "23    1.494606\n",
       "24    1.630479\n",
       "Name: Salary, dtype: float64"
      ]
     },
     "execution_count": 25,
     "metadata": {},
     "output_type": "execute_result"
    }
   ],
   "source": [
    "z_score_salary"
   ]
  },
  {
   "cell_type": "markdown",
   "id": "b9f9b17c",
   "metadata": {},
   "source": [
    "# "
   ]
  },
  {
   "cell_type": "markdown",
   "id": "5b1cba42",
   "metadata": {},
   "source": [
    "# "
   ]
  },
  {
   "cell_type": "markdown",
   "id": "c4e1b661",
   "metadata": {},
   "source": [
    "# Degree of Freedom"
   ]
  },
  {
   "cell_type": "code",
   "execution_count": 26,
   "id": "2c9416de",
   "metadata": {},
   "outputs": [
    {
     "name": "stdout",
     "output_type": "stream",
     "text": [
      "21\n"
     ]
    }
   ],
   "source": [
    "a = df.shape[0]\n",
    "b = df.shape[1]\n",
    "\n",
    "degree_of_freedom = a-b\n",
    "print(degree_of_freedom)"
   ]
  },
  {
   "cell_type": "markdown",
   "id": "0a0f88eb",
   "metadata": {},
   "source": [
    "# Sum of Squares Regression (SSR)"
   ]
  },
  {
   "cell_type": "code",
   "execution_count": 27,
   "id": "23f6dc83",
   "metadata": {},
   "outputs": [
    {
     "name": "stdout",
     "output_type": "stream",
     "text": [
      "860000000.0000002\n"
     ]
    }
   ],
   "source": [
    "#First we have to separate dependent and independent variables\n",
    "X=df.iloc[:,:-1].values #independent variable\n",
    "y=df.iloc[:,1].values # dependent variable\n",
    "\n",
    "y_mean = np.mean(y) # this will calculate mean of dependent variable\n",
    "\n",
    "from sklearn.model_selection import train_test_split\n",
    "X_train,X_test,y_train,y_test = train_test_split(X,y,test_size=0.20,random_state=0)\n",
    "\n",
    "from sklearn.linear_model import LinearRegression\n",
    "reg = LinearRegression()\n",
    "reg.fit(X_train,y_train)\n",
    "y_predict = reg.predict(X_test) # before doing this we have to train,test and split our\n",
    "\n",
    "SSR = np.sum((y_predict-y_mean)**2)\n",
    "print(SSR)"
   ]
  },
  {
   "cell_type": "markdown",
   "id": "4f8619cd",
   "metadata": {},
   "source": [
    "# Sum of Squares Error (SSE)"
   ]
  },
  {
   "cell_type": "code",
   "execution_count": 28,
   "id": "8299795f",
   "metadata": {},
   "outputs": [
    {
     "name": "stdout",
     "output_type": "stream",
     "text": [
      "2131999999.9999998\n"
     ]
    }
   ],
   "source": [
    "# First we have to separate dependent and independent variables\n",
    "X = df.iloc[:, :-1].values # independent variable\n",
    "y = df.iloc[:, 1].values # dependent variable\n",
    "\n",
    "from sklearn.model_selection import train_test_split\n",
    "X_train, X_test, y_train, y_test = train_test_split(X, y, test_size=0.20, random_state=0)\n",
    "\n",
    "from sklearn.linear_model import LinearRegression\n",
    "reg = LinearRegression()\n",
    "reg.fit(X_train, y_train)\n",
    "y_predict = reg.predict(X_test)\n",
    "\n",
    "# Ensure that y and y_predict have the same length for SSE calculation\n",
    "y = y[0:5] # Use y_test instead of truncating y\n",
    "\n",
    "SSE = np.sum((y - y_predict) ** 2)\n",
    "print(SSE)"
   ]
  },
  {
   "cell_type": "markdown",
   "id": "8d63fcf3",
   "metadata": {},
   "source": [
    "# "
   ]
  },
  {
   "cell_type": "markdown",
   "id": "b3428d17",
   "metadata": {},
   "source": [
    "# "
   ]
  },
  {
   "cell_type": "markdown",
   "id": "8237983f",
   "metadata": {},
   "source": [
    "# Sum of Squares Total (SST)"
   ]
  },
  {
   "cell_type": "code",
   "execution_count": 29,
   "id": "5bca7f27",
   "metadata": {},
   "outputs": [
    {
     "name": "stdout",
     "output_type": "stream",
     "text": [
      "81989604516.75002\n"
     ]
    }
   ],
   "source": [
    "mean_total = np.mean(df.values) # here df.to_numpy()will convert pandas Dataframe to Nump\n",
    "SST = np.sum((df.values-mean_total)**2)\n",
    "print(SST)"
   ]
  },
  {
   "cell_type": "markdown",
   "id": "7950a81f",
   "metadata": {},
   "source": [
    "# R-Square"
   ]
  },
  {
   "cell_type": "code",
   "execution_count": 30,
   "id": "79891b2d",
   "metadata": {},
   "outputs": [
    {
     "data": {
      "text/plain": [
       "0.010489134629553032"
      ]
     },
     "execution_count": 30,
     "metadata": {},
     "output_type": "execute_result"
    }
   ],
   "source": [
    "r_square=SSR/SST\n",
    "r_square"
   ]
  },
  {
   "cell_type": "markdown",
   "id": "8c316ccc",
   "metadata": {},
   "source": [
    "# Hypothesis Testing"
   ]
  },
  {
   "cell_type": "code",
   "execution_count": 31,
   "id": "6e648e2a",
   "metadata": {},
   "outputs": [
    {
     "name": "stdout",
     "output_type": "stream",
     "text": [
      "T-statistic: -21.735300458230686\n",
      "P-value: 1.7235365197098367e-26\n"
     ]
    }
   ],
   "source": [
    "from scipy import stats\n",
    "t_stat, p_value = stats.ttest_ind(df[\"Years of Experience\"], df[\"Salary\"])\n",
    "\n",
    "print(f\"T-statistic: {t_stat}\")\n",
    "print(f\"P-value: {p_value}\")"
   ]
  },
  {
   "cell_type": "markdown",
   "id": "fbe7857f",
   "metadata": {},
   "source": [
    "# Regression Analysis"
   ]
  },
  {
   "cell_type": "code",
   "execution_count": 32,
   "id": "99e2575e",
   "metadata": {},
   "outputs": [
    {
     "name": "stdout",
     "output_type": "stream",
     "text": [
      "Linear Regression Equation: Salary = 2000.00 * Years of Experience + 38000.00\n"
     ]
    }
   ],
   "source": [
    "from sklearn.linear_model import LinearRegression\n",
    "X = df[[\"Years of Experience\"]]\n",
    "y = df[\"Salary\"]\n",
    "\n",
    "reg = LinearRegression()\n",
    "reg.fit(X, y)\n",
    "\n",
    "slope = reg.coef_[0]\n",
    "intercept = reg.intercept_\n",
    "print(f\"Linear Regression Equation: Salary = {slope:.2f} * Years of Experience + {intercept:.2f}\")"
   ]
  }
 ],
 "metadata": {
  "kernelspec": {
   "display_name": "Python 3 (ipykernel)",
   "language": "python",
   "name": "python3"
  },
  "language_info": {
   "codemirror_mode": {
    "name": "ipython",
    "version": 3
   },
   "file_extension": ".py",
   "mimetype": "text/x-python",
   "name": "python",
   "nbconvert_exporter": "python",
   "pygments_lexer": "ipython3",
   "version": "3.11.5"
  }
 },
 "nbformat": 4,
 "nbformat_minor": 5
}
